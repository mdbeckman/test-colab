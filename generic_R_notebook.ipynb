{
  "nbformat": 4,
  "nbformat_minor": 0,
  "metadata": {
    "kernelspec": {
      "display_name": "R",
      "language": "R",
      "name": "ir"
    },
    "language_info": {
      "codemirror_mode": "r",
      "file_extension": ".r",
      "mimetype": "text/x-r-source",
      "name": "R",
      "pygments_lexer": "r",
      "version": "3.5.1"
    },
    "varInspector": {
      "cols": {
        "lenName": 16,
        "lenType": 16,
        "lenVar": 40
      },
      "kernels_config": {
        "python": {
          "delete_cmd_postfix": "",
          "delete_cmd_prefix": "del ",
          "library": "var_list.py",
          "varRefreshCmd": "print(var_dic_list())"
        },
        "r": {
          "delete_cmd_postfix": ") ",
          "delete_cmd_prefix": "rm(",
          "library": "var_list.r",
          "varRefreshCmd": "cat(var_dic_list()) "
        }
      },
      "types_to_exclude": [
        "module",
        "function",
        "builtin_function_or_method",
        "instance",
        "_Feature"
      ],
      "window_display": false
    },
    "colab": {
      "name": "matrix_multiplication.ipynb",
      "provenance": [],
      "include_colab_link": true
    }
  },
  "cells": [
    {
      "cell_type": "markdown",
      "metadata": {
        "id": "view-in-github",
        "colab_type": "text"
      },
      "source": [
        "<a href=\"https://colab.research.google.com/github/yardsale8/test-colab/blob/master/generic_R_notebook.ipynb\" target=\"_parent\"><img src=\"https://colab.research.google.com/assets/colab-badge.svg\" alt=\"Open In Colab\"/></a>"
      ]
    },
    {
      "cell_type": "markdown",
      "metadata": {
        "id": "caYPKvMGSQmP",
        "colab_type": "text"
      },
      "source": [
        "This is a generic R notebook that can be used as a starting place for Google Colab.  Feel free to save a copy to Google Drive or GitHub using the **File** menu and edit away!"
      ]
    },
    {
      "cell_type": "markdown",
      "metadata": {
        "id": "6zkomEd9QA4q",
        "colab_type": "text"
      },
      "source": [
        "\n",
        "# This is a markdown cell\n",
        "\n",
        "You can put your notes/slides here, including math (e.g. $\\sum_{i=1}^n i$ or lists like  \n",
        "\n",
        "1. This\n",
        "2. list \n",
        "3. of numbered items\n",
        "\n",
        "or\n",
        "\n",
        "* This\n",
        "* list\n",
        "* of\n",
        "* unnumbered bullets;\n",
        "\n",
        "and Jupyter will render it for your students."
      ]
    },
    {
      "cell_type": "code",
      "metadata": {
        "id": "eK0VbH6PQ5Kk",
        "colab_type": "code",
        "colab": {
          "base_uri": "https://localhost:8080/",
          "height": 207
        },
        "outputId": "ed97b26d-f579-4e9f-c604-3ecbe9c1df1f"
      },
      "source": [
        "# This is a code cell ... it will run R code live in the student's browser\n",
        "# If you need to read in data, use an external link!\n",
        "data <- read.csv(\"https://raw.githubusercontent.com/yardsale8/STAT321/master/data/power_etch.csv\")\n",
        "head(data)"
      ],
      "execution_count": 1,
      "outputs": [
        {
          "output_type": "display_data",
          "data": {
            "text/plain": [
              "  power_w etch_rate\n",
              "1 160     575      \n",
              "2 160     542      \n",
              "3 160     530      \n",
              "4 160     539      \n",
              "5 160     570      \n",
              "6 180     565      "
            ],
            "text/latex": "A data.frame: 6 × 2\n\\begin{tabular}{r|ll}\n  & power\\_w & etch\\_rate\\\\\n  & <int> & <int>\\\\\n\\hline\n\t1 & 160 & 575\\\\\n\t2 & 160 & 542\\\\\n\t3 & 160 & 530\\\\\n\t4 & 160 & 539\\\\\n\t5 & 160 & 570\\\\\n\t6 & 180 & 565\\\\\n\\end{tabular}\n",
            "text/markdown": "\nA data.frame: 6 × 2\n\n| <!--/--> | power_w &lt;int&gt; | etch_rate &lt;int&gt; |\n|---|---|---|\n| 1 | 160 | 575 |\n| 2 | 160 | 542 |\n| 3 | 160 | 530 |\n| 4 | 160 | 539 |\n| 5 | 160 | 570 |\n| 6 | 180 | 565 |\n\n",
            "text/html": [
              "<table>\n",
              "<caption>A data.frame: 6 × 2</caption>\n",
              "<thead>\n",
              "\t<tr><th></th><th scope=col>power_w</th><th scope=col>etch_rate</th></tr>\n",
              "\t<tr><th></th><th scope=col>&lt;int&gt;</th><th scope=col>&lt;int&gt;</th></tr>\n",
              "</thead>\n",
              "<tbody>\n",
              "\t<tr><th scope=row>1</th><td>160</td><td>575</td></tr>\n",
              "\t<tr><th scope=row>2</th><td>160</td><td>542</td></tr>\n",
              "\t<tr><th scope=row>3</th><td>160</td><td>530</td></tr>\n",
              "\t<tr><th scope=row>4</th><td>160</td><td>539</td></tr>\n",
              "\t<tr><th scope=row>5</th><td>160</td><td>570</td></tr>\n",
              "\t<tr><th scope=row>6</th><td>180</td><td>565</td></tr>\n",
              "</tbody>\n",
              "</table>\n"
            ]
          },
          "metadata": {
            "tags": []
          }
        }
      ]
    },
    {
      "cell_type": "markdown",
      "metadata": {
        "id": "r2hT_6ARR9ir",
        "colab_type": "text"
      },
      "source": [
        "I like to provide my students with exercises like the one shown below.  I find it easiest to have them submit their work using screenshots in a Word documents, but you would also have them save their work to Google Drive or Github using the **File** menu and send you a link."
      ]
    },
    {
      "cell_type": "markdown",
      "metadata": {
        "id": "-5TbFOuxQA67",
        "colab_type": "text"
      },
      "source": [
        "## <font color=\"red\"> Exercise 3</font>\n",
        "\n",
        "Use R to complete the following tasks.\n",
        "\n",
        "* Add 2 and 5\n",
        "* Use the `c` functions to create a character vector of at least three names.\n",
        "* Use the `:` operator to generate a vector of the first 100 whole numbers."
      ]
    },
    {
      "cell_type": "markdown",
      "metadata": {
        "id": "m7JptovXQA67",
        "colab_type": "text"
      },
      "source": [
        "> *Your by-hand computations and written answers here"
      ]
    },
    {
      "cell_type": "code",
      "metadata": {
        "id": "YwwJySCRQA69",
        "colab_type": "code",
        "colab": {}
      },
      "source": [
        "# Your code here"
      ],
      "execution_count": 0,
      "outputs": []
    }
  ]
}