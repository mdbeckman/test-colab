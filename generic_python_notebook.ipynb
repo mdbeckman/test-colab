{
  "nbformat": 4,
  "nbformat_minor": 0,
  "metadata": {
    "colab": {
      "name": "Welcome To Colaboratory",
      "provenance": [],
      "collapsed_sections": [],
      "toc_visible": true,
      "include_colab_link": true
    },
    "kernelspec": {
      "display_name": "Python 3",
      "name": "python3"
    }
  },
  "cells": [
    {
      "cell_type": "markdown",
      "metadata": {
        "id": "view-in-github",
        "colab_type": "text"
      },
      "source": [
        "<a href=\"https://colab.research.google.com/github/yardsale8/test-colab/blob/master/generic_python_notebook.ipynb\" target=\"_parent\"><img src=\"https://colab.research.google.com/assets/colab-badge.svg\" alt=\"Open In Colab\"/></a>"
      ]
    },
    {
      "cell_type": "markdown",
      "metadata": {
        "colab_type": "text",
        "id": "5fCEDCU_qrC0"
      },
      "source": [
        "This is a generic Python notebook that can be used as a starting place for Google Colab.  Feel free to save a copy to Google Drive or GitHub using the **File** menu and edit away!"
      ]
    },
    {
      "cell_type": "markdown",
      "metadata": {
        "colab_type": "text",
        "id": "GJBs_flRovLc"
      },
      "source": [
        "# This is a markdown cell\n",
        "\n",
        "You can put your notes/slides here, including math (e.g. $\\sum_{i=1}^n i$ or lists like  \n",
        "\n",
        "1. This\n",
        "2. list \n",
        "3. of numbered items\n",
        "\n",
        "or\n",
        "\n",
        "* This\n",
        "* list\n",
        "* of\n",
        "* unnumbered bullets;\n",
        "\n",
        "and Jupyter will render it for your students."
      ]
    },
    {
      "cell_type": "code",
      "metadata": {
        "colab_type": "code",
        "id": "gJr_9dXGpJ05",
        "outputId": "1bdcba87-e45a-49c9-ffe7-221ddb417a6d",
        "colab": {
          "base_uri": "https://localhost:8080/",
          "height": 206
        }
      },
      "source": [
        "# This is a code cell ... it will run R code live in the student's browser\n",
        "# If you need to read in data, use an external link!\n",
        "import pandas as pd\n",
        "data = pd.read_csv(\"https://raw.githubusercontent.com/yardsale8/STAT321/master/data/power_etch.csv\")\n",
        "data.head()"
      ],
      "execution_count": 2,
      "outputs": [
        {
          "output_type": "execute_result",
          "data": {
            "text/html": [
              "<div>\n",
              "<style scoped>\n",
              "    .dataframe tbody tr th:only-of-type {\n",
              "        vertical-align: middle;\n",
              "    }\n",
              "\n",
              "    .dataframe tbody tr th {\n",
              "        vertical-align: top;\n",
              "    }\n",
              "\n",
              "    .dataframe thead th {\n",
              "        text-align: right;\n",
              "    }\n",
              "</style>\n",
              "<table border=\"1\" class=\"dataframe\">\n",
              "  <thead>\n",
              "    <tr style=\"text-align: right;\">\n",
              "      <th></th>\n",
              "      <th>power_w</th>\n",
              "      <th>etch_rate</th>\n",
              "    </tr>\n",
              "  </thead>\n",
              "  <tbody>\n",
              "    <tr>\n",
              "      <th>0</th>\n",
              "      <td>160</td>\n",
              "      <td>575</td>\n",
              "    </tr>\n",
              "    <tr>\n",
              "      <th>1</th>\n",
              "      <td>160</td>\n",
              "      <td>542</td>\n",
              "    </tr>\n",
              "    <tr>\n",
              "      <th>2</th>\n",
              "      <td>160</td>\n",
              "      <td>530</td>\n",
              "    </tr>\n",
              "    <tr>\n",
              "      <th>3</th>\n",
              "      <td>160</td>\n",
              "      <td>539</td>\n",
              "    </tr>\n",
              "    <tr>\n",
              "      <th>4</th>\n",
              "      <td>160</td>\n",
              "      <td>570</td>\n",
              "    </tr>\n",
              "  </tbody>\n",
              "</table>\n",
              "</div>"
            ],
            "text/plain": [
              "   power_w  etch_rate\n",
              "0      160        575\n",
              "1      160        542\n",
              "2      160        530\n",
              "3      160        539\n",
              "4      160        570"
            ]
          },
          "metadata": {
            "tags": []
          },
          "execution_count": 2
        }
      ]
    },
    {
      "cell_type": "markdown",
      "metadata": {
        "colab_type": "text",
        "id": "2fhs6GZ4qFMx"
      },
      "source": [
        "I like to provide my students with exercises like the one shown below.  I find it easiest to have them submit their work using screenshots in a Word documents, but you would also have them save their work to Google Drive or Github using the **File** menu and send you a link."
      ]
    },
    {
      "cell_type": "markdown",
      "metadata": {
        "colab_type": "text",
        "id": "lSrWNr3MuFUS"
      },
      "source": [
        "## <font color=\"red\"> Exercise 3</font>\n",
        "\n",
        "Use Python to complete the following tasks.\n",
        "\n",
        "* Add 2 and 5\n",
        "* Create a list of at least three names.\n",
        "* Use the `range` function to generate a vector of the first 100 whole numbers."
      ]
    },
    {
      "cell_type": "code",
      "metadata": {
        "id": "lT4pB9BrTw-U",
        "colab_type": "code",
        "colab": {}
      },
      "source": [
        "##Your code here"
      ],
      "execution_count": 0,
      "outputs": []
    }
  ]
}